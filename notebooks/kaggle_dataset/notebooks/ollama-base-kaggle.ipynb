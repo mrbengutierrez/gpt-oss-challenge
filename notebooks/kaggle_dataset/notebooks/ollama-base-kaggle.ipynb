{
  "cells": [
    {
      "cell_type": "markdown",
      "metadata": {},
      "source": [
        "# Ollama Base (gpt-oss:20b) \u2014 Kaggle Starter\n",
        "\n",
        "This notebook installs and launches **Ollama**, pulls `gpt-oss:20b`, sanity-checks the API,\n",
        "and shows how to run the harness from the attached dataset."
      ]
    },
    {
      "cell_type": "code",
      "execution_count": null,
      "metadata": {
        "trusted": true
      },
      "outputs": [],
      "source": [
        "# Install Ollama\n",
        "!curl -fsSL https://ollama.com/install.sh | sh"
      ]
    },
    {
      "cell_type": "code",
      "execution_count": null,
      "metadata": {
        "trusted": true
      },
      "outputs": [],
      "source": [
        "# Start Ollama in the background\n",
        "import os, time\n",
        "os.system(\"nohup ollama serve > /tmp/ollama_serve.log 2>&1 &\")\n",
        "time.sleep(5)\n",
        "print('Ollama started. Logs at /tmp/ollama_serve.log')"
      ]
    },
    {
      "cell_type": "code",
      "execution_count": null,
      "metadata": {
        "trusted": true
      },
      "outputs": [],
      "source": [
        "# Pull gpt-oss:20b (large download)\n",
        "!ollama pull gpt-oss:20b"
      ]
    },
    {
      "cell_type": "code",
      "execution_count": null,
      "metadata": {
        "trusted": true
      },
      "outputs": [],
      "source": [
        "# Quick sanity check against the OpenAI-compatible endpoint\n",
        "import requests, json\n",
        "resp = requests.post(\n",
        "    \"http://127.0.0.1:11434/api/generate\",\n",
        "    json={\"model\":\"gpt-oss:20b\",\"prompt\":\"Say hello in one short sentence.\",\"stream\":False},\n",
        "    timeout=120,\n",
        ")\n",
        "resp.raise_for_status()\n",
        "print(resp.json().get(\"response\"))"
      ]
    },
    {
      "cell_type": "code",
      "execution_count": null,
      "metadata": {
        "trusted": true
      },
      "outputs": [],
      "source": [
        "# Install harness dependencies from the attached dataset\n",
        "!pip install -r /kaggle/input/ollama-redteam-dataset/requirements.txt -q"
      ]
    },
    {
      "cell_type": "code",
      "execution_count": null,
      "metadata": {
        "trusted": true
      },
      "outputs": [],
      "source": [
        "# Run the harness\n",
        "!python /kaggle/input/ollama-redteam-dataset/src/runner.py"
      ]
    }
  ],
  "metadata": {
    "kernelspec": {
      "display_name": "Python 3",
      "language": "python",
      "name": "python3"
    },
    "language_info": {
      "name": "python"
    },
    "kaggle": {
      "accelerator": "nvidiaTeslaT4",
      "isGpuEnabled": true,
      "isInternetEnabled": true,
      "dockerImageVersionId": 31089
    }
  },
  "nbformat": 4,
  "nbformat_minor": 5
}